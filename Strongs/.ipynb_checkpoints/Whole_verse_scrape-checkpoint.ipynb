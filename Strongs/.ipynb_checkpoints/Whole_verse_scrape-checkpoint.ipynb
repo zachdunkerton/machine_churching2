{
 "cells": [
  {
   "cell_type": "code",
   "execution_count": 1,
   "metadata": {},
   "outputs": [],
   "source": [
    "from get_page import simple_get\n",
    "from bs4 import BeautifulSoup\n",
    "import re\n",
    "import os\n",
    "import sys\n",
    "import sqlite3\n",
    "bible = {\"genesis\":50,\"exodus\":40,\"leviticus\":27, \"numbers\":36,\"deuteronomy\":34, \"joshua\":24, \"judges\":21, \"ruth\":4, \"1-samuel\":31, \"2-samuel\":24,\n",
    "        \"1-kings\":22, \"2-kings\":25, \"1-chronicles\":29, \"2-chronicles\":36, \"ezra\":10, \"nehemiah\":13, \"esther\":10, \"job\":42, \"psalms\":150,\n",
    "        \"proverbs\":31, \"ecclesiastes\":12, \"song-of-solomon\":8, \"isaiah\":66, \"jeremiah\":52, \"lamentations\":5, \"ezekiel\":48, \"daniel\":12,\n",
    "        \"hosea\":14, \"joel\":3, \"amos\":9, \"obadiah\":1, \"jonah\":4, \"micah\":7, \"nahum\":3, \"habakkuk\":3, \"zephaniah\":3, \"haggai\":2,\"zechariah\":14,\n",
    "        \"malachi\":4, \"matthew\":28, \"mark\":16, \"luke\":24, \"john\":21, \"acts\":28, \"romans\":16, \"1-corinthians\":16, \"2-corithians\":13, \"galatians\":6,\n",
    "        \"ephesians\":6, \"philippians\":4, \"colossians\":4, \"1-thessalonians\":5, \"2-thessalonians\":3, \"1-timothy\":6, \"2-timothy\":4,\n",
    "        \"titus\":3, \"philemon\":1, \"hebrews\":13, \"james\":5, \"1-peter\":5, \"2-peter\":3, \"1-john\":5, \"2-john\":1, \"3-john\":1, \"jude\":1, \"revelation\":22}"
   ]
  },
  {
   "cell_type": "code",
   "execution_count": 2,
   "metadata": {},
   "outputs": [],
   "source": [
    "conn = sqlite3.connect('nasb_stem.db')"
   ]
  },
  {
   "cell_type": "code",
   "execution_count": 2,
   "metadata": {},
   "outputs": [
    {
     "name": "stdout",
     "output_type": "stream",
     "text": [
      "revelation 22                          \r"
     ]
    }
   ],
   "source": [
    "bible_dict = {}\n",
    "for b in bible:\n",
    "    book = {}\n",
    "    for chapter_num in range(1, bible[b]+1):\n",
    "        sys.stdout.write('{0} {1}                      \\r'.format(b, chapter_num))\n",
    "        sys.stdout.flush()\n",
    "        url = 'https://www.biblestudytools.com/nas/{0}/{1}.html'.format(b, chapter_num)\n",
    "        page = simple_get(url)\n",
    "        html = BeautifulSoup(page, 'html.parser')\n",
    "        verses = html.find_all('span',{'class': re.compile(\"(verse-\\d)\")})\n",
    "        chapter = {}\n",
    "        verse_index = 1\n",
    "        for verse in verses:\n",
    "            for sup in verse.find_all('sup'):\n",
    "                sup.decompose()\n",
    "            chapter.update({verse_index:verse.text.strip()})\n",
    "            verse_index +=1\n",
    "        book.update({chapter_num:chapter})\n",
    "    bible_dict.update({b:book})"
   ]
  },
  {
   "cell_type": "code",
   "execution_count": 53,
   "metadata": {},
   "outputs": [],
   "source": [
    "create_table_sql = sql = 'DROP TABLE full_verse;'\n",
    "c = conn.cursor()\n",
    "c.execute(create_table_sql)\n",
    "conn.commit()"
   ]
  },
  {
   "cell_type": "code",
   "execution_count": 4,
   "metadata": {},
   "outputs": [],
   "source": [
    "create_table_sql = \"\"\" CREATE TABLE IF NOT EXISTS full_verse (\n",
    "                                        ref text NOT NULL,\n",
    "                                        book text NOT NULL,\n",
    "                                        chapter_num integer NOT NULL,\n",
    "                                        verse_num integer NOT NULL,\n",
    "                                        verse text NOT NULL\n",
    "                                    ); \"\"\"\n",
    "c = conn.cursor()\n",
    "c.execute(create_table_sql)\n",
    "conn.commit()"
   ]
  },
  {
   "cell_type": "code",
   "execution_count": 5,
   "metadata": {},
   "outputs": [
    {
     "name": "stdout",
     "output_type": "stream",
     "text": [
      "revelation 22:21                       \r"
     ]
    }
   ],
   "source": [
    "c = conn.cursor()\n",
    "for b in bible.keys():\n",
    "    for chapter in range(1, len(bible_dict[b])+1):\n",
    "        for verse in range(1, len(bible_dict[b][chapter])+1):\n",
    "            ref = '{0} {1}:{2}'.format(b, chapter, verse)\n",
    "            sql = '''INSERT INTO full_verse(ref,book,chapter_num,verse_num,verse) VALUES(\"{0}\",\"{1}\",{2},{3},\"{4}\")'''.format(ref, b, chapter, verse, bible_dict[b][chapter][verse].strip().replace('\"','`'))\n",
    "            c.execute(sql)\n",
    "            conn.commit()\n",
    "            sys.stdout.write(ref + '                   \\r')\n",
    "            sys.stdout.flush()"
   ]
  }
 ],
 "metadata": {
  "kernelspec": {
   "display_name": "Python 3",
   "language": "python",
   "name": "python3"
  },
  "language_info": {
   "codemirror_mode": {
    "name": "ipython",
    "version": 3
   },
   "file_extension": ".py",
   "mimetype": "text/x-python",
   "name": "python",
   "nbconvert_exporter": "python",
   "pygments_lexer": "ipython3",
   "version": "3.7.6"
  }
 },
 "nbformat": 4,
 "nbformat_minor": 4
}
