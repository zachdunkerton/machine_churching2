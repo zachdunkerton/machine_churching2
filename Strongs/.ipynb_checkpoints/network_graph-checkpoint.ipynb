{
 "cells": [
  {
   "cell_type": "code",
   "execution_count": 39,
   "metadata": {},
   "outputs": [],
   "source": [
    "import re\n",
    "import os\n",
    "import sys\n",
    "import sqlite3\n",
    "import pandas as pd\n",
    "from sklearn.cluster import KMeans\n",
    "from sklearn.feature_extraction.text import TfidfVectorizer\n",
    "def create_connection(db_file):\n",
    "    \"\"\" create a database connection to the SQLite database\n",
    "        specified by db_file\n",
    "    :param db_file: database file\n",
    "    :return: Connection object or None\n",
    "    \"\"\"\n",
    "    try:\n",
    "        conn = sqlite3.connect(db_file)\n",
    "        return conn\n",
    "    except Error as e:\n",
    "        print(e)\n",
    " \n",
    "    return None\n",
    "def query(conn, sql):\n",
    "    conn.row_factory = dict_factory\n",
    "    cur = conn.cursor()\n",
    "    cur.execute(sql)\n",
    "    results = cur.fetchall()\n",
    "    return pd.DataFrame(results)\n",
    "def dict_factory(cursor, row):\n",
    "    d = {}\n",
    "    for idx, col in enumerate(cursor.description):\n",
    "        d[col[0]] = row[idx]\n",
    "    return d\n",
    "conn = create_connection(\"../bible/nasb.db\")\n",
    "bible = {\"genesis\":50,\"exodus\":40,\"leviticus\":27, \"numbers\":36,\"deuteronomy\":34, \"joshua\":24, \"judges\":21, \"ruth\":4, \"1-samuel\":31, \"2-samuel\":24,\n",
    "        \"1-kings\":22, \"2-kings\":25, \"1-chronicles\":29, \"2-chronicles\":36, \"ezra\":10, \"nehemiah\":13, \"esther\":10, \"job\":42, \"psalms\":150,\n",
    "        \"proverbs\":31, \"ecclesiastes\":12, \"song-of-solomon\":8, \"isaiah\":66, \"jeremiah\":52, \"lamentations\":5, \"ezekiel\":48, \"daniel\":12,\n",
    "        \"hosea\":14, \"joel\":3, \"amos\":9, \"obadiah\":1, \"jonah\":4, \"micah\":7, \"nahum\":3, \"habakkuk\":3, \"zephaniah\":3, \"haggai\":2,\"zechariah\":14,\n",
    "        \"malachi\":4, \"matthew\":28, \"mark\":16, \"luke\":24, \"john\":21, \"acts\":28, \"romans\":16, \"1-corinthians\":16, \"2-corithians\":13, \"galatians\":6,\n",
    "        \"ephesians\":6, \"philippians\":4, \"colossians\":4, \"1-thessalonians\":5, \"2-thessalonians\":3, \"1-timothy\":6, \"2-timothy\":4,\n",
    "        \"titus\":3, \"philemon\":1, \"hebrews\":13, \"james\":5, \"1-peter\":5, \"2-peter\":3, \"1-john\":5, \"2-john\":1, \"3-john\":1, \"jude\":1, \"revelation\":22}"
   ]
  },
  {
   "cell_type": "code",
   "execution_count": 6,
   "metadata": {},
   "outputs": [],
   "source": [
    "r = query(conn, '''select * from refs''')"
   ]
  },
  {
   "cell_type": "code",
   "execution_count": 26,
   "metadata": {},
   "outputs": [],
   "source": [
    "\n",
    "def get_ref_edges(row):\n",
    "    for con in row.refs.split(','):\n",
    "        if con != '':\n",
    "            all_edges.append([row.ref,con])"
   ]
  },
  {
   "cell_type": "code",
   "execution_count": 34,
   "metadata": {},
   "outputs": [],
   "source": [
    "all_edges = []\n",
    "x = r.apply(get_ref_edges, axis=1)\n",
    "all_edges = pd.DataFrame(all_edges, columns = ['ref','edge'])\n",
    "#all_edges = all_edges.set_index('ref')\n",
    "\n",
    "all_edges[\"book\"] = all_edges.ref.apply(lambda x: x.split(' ')[0])\n",
    "all_edges[\"chapter\"] = all_edges.ref.apply(lambda x: x.split(' ')[1].split(':')[0])"
   ]
  },
  {
   "cell_type": "code",
   "execution_count": 37,
   "metadata": {},
   "outputs": [],
   "source": [
    "all_edges[\"edge_book\"] = all_edges.edge.apply(lambda x: x.split(' ')[0])\n",
    "all_edges[\"edge_chapter\"] = all_edges.edge.apply(lambda x: x.split(' ')[1].split(':')[0])"
   ]
  },
  {
   "cell_type": "code",
   "execution_count": 43,
   "metadata": {},
   "outputs": [
    {
     "data": {
      "text/plain": [
       "343"
      ]
     },
     "execution_count": 43,
     "metadata": {},
     "output_type": "execute_result"
    }
   ],
   "source": [
    "len(all_edges[(all_edges.edge_book == 'genesis')&(all_edges.book=='exodus')])"
   ]
  },
  {
   "cell_type": "code",
   "execution_count": 44,
   "metadata": {},
   "outputs": [],
   "source": [
    "book_edges = []\n",
    "for book in bible.keys():\n",
    "    for edge_book in bible.keys():\n",
    "        book_edges.append({'book1': book, 'book2':edge_book, 'num_conn': len(all_edges[(all_edges.edge_book == book)&(all_edges.book==edge_book)])})"
   ]
  },
  {
   "cell_type": "code",
   "execution_count": 48,
   "metadata": {},
   "outputs": [],
   "source": [
    "connection_books = pd.DataFrame(book_edges)\n",
    "connection_books = connection_books[connection_books.book1!=connection_books.book2]"
   ]
  },
  {
   "cell_type": "code",
   "execution_count": 51,
   "metadata": {},
   "outputs": [],
   "source": [
    "connection_books.to_excel('book_connections.xlsx')"
   ]
  }
 ],
 "metadata": {
  "kernelspec": {
   "display_name": "Python 3",
   "language": "python",
   "name": "python3"
  },
  "language_info": {
   "codemirror_mode": {
    "name": "ipython",
    "version": 3
   },
   "file_extension": ".py",
   "mimetype": "text/x-python",
   "name": "python",
   "nbconvert_exporter": "python",
   "pygments_lexer": "ipython3",
   "version": "3.6.0"
  }
 },
 "nbformat": 4,
 "nbformat_minor": 2
}
