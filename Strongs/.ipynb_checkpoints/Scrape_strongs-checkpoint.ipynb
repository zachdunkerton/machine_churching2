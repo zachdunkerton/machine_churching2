{
 "cells": [
  {
   "cell_type": "code",
   "execution_count": 1,
   "metadata": {},
   "outputs": [],
   "source": [
    "from get_page import simple_get\n",
    "from bs4 import BeautifulSoup\n",
    "import pandas as pd\n",
    "import re\n",
    "import os\n",
    "import sys\n",
    "import sqlite3\n",
    "from nltk.stem.snowball import SnowballStemmer\n",
    "stemmer = SnowballStemmer(\"english\")\n",
    "def create_connection(db_file):\n",
    "    try:\n",
    "        conn = sqlite3.connect(db_file)\n",
    "        return conn\n",
    "    except Error as e:\n",
    "        print(e)\n",
    " \n",
    "    return None\n",
    "bible = {\"genesis\":50,\"exodus\":40,\"leviticus\":27, \"numbers\":36,\"deuteronomy\":34, \"joshua\":24, \"judges\":21, \"ruth\":4, \"1-samuel\":31, \"2-samuel\":24,\n",
    "        \"1-kings\":22, \"2-kings\":25, \"1-chronicles\":29, \"2-chronicles\":36, \"ezra\":10, \"nehemiah\":13, \"esther\":10, \"job\":42, \"psalms\":150,\n",
    "        \"proverbs\":31, \"ecclesiastes\":12, \"song-of-solomon\":8, \"isaiah\":66, \"jeremiah\":52, \"lamentations\":5, \"ezekiel\":48, \"daniel\":12,\n",
    "        \"hosea\":14, \"joel\":3, \"amos\":9, \"obadiah\":1, \"jonah\":4, \"micah\":7, \"nahum\":3, \"habakkuk\":3, \"zephaniah\":3, \"haggai\":2,\"zechariah\":14,\n",
    "        \"malachi\":4, \"matthew\":28, \"mark\":16, \"luke\":24, \"john\":21, \"acts\":28, \"romans\":16, \"1-corinthians\":16, \"2-corithians\":13, \"galatians\":6,\n",
    "        \"ephesians\":6, \"philippians\":4, \"colossians\":4, \"1-thessalonians\":5, \"2-thessalonians\":3, \"1-timothy\":6, \"2-timothy\":4,\n",
    "        \"titus\":3, \"philemon\":1, \"hebrews\":13, \"james\":5, \"1-peter\":5, \"2-peter\":3, \"1-john\":5, \"2-john\":1, \"3-john\":1, \"jude\":1, \"revelation\":22}"
   ]
  },
  {
   "cell_type": "markdown",
   "metadata": {},
   "source": [
    "#### Example load page"
   ]
  },
  {
   "cell_type": "code",
   "execution_count": 2,
   "metadata": {},
   "outputs": [],
   "source": [
    "url = 'https://www.biblestudytools.com/nas/genesis/1.html'\n",
    "page = simple_get(url)\n",
    "html = BeautifulSoup(page, 'html.parser')\n",
    "verses = html.find_all('span',{'class': re.compile(\"(verse-\\d)\")})"
   ]
  },
  {
   "cell_type": "markdown",
   "metadata": {},
   "source": [
    "#### Iterate through each chapter based on the dict and scrape the page, SCRAPES STRONGS NUMBER ONLY"
   ]
  },
  {
   "cell_type": "code",
   "execution_count": 32,
   "metadata": {
    "scrolled": true
   },
   "outputs": [
    {
     "name": "stdout",
     "output_type": "stream",
     "text": [
      "revelation 22                          \r"
     ]
    }
   ],
   "source": [
    "bible_dict = {}\n",
    "prefix = 'H'\n",
    "for b in bible:\n",
    "    if b == 'matthew':\n",
    "        prefix = 'G'\n",
    "    book = {}\n",
    "    for chapter_num in range(1, bible[b]+1):\n",
    "        sys.stdout.write('{0} {1}                      \\r'.format(b, chapter_num))\n",
    "        sys.stdout.flush()\n",
    "        url = 'https://www.biblestudytools.com/nas/{0}/{1}.html'.format(b, chapter_num)\n",
    "        page = simple_get(url)\n",
    "        html = BeautifulSoup(page, 'html.parser')\n",
    "        verses = html.find_all('span',{'class': re.compile(\"(verse-\\d)\")})\n",
    "        chapter = {}\n",
    "        verse_num = 1\n",
    "        for verse in verses:\n",
    "            verse_dict = []\n",
    "            verse_index = 0\n",
    "            for a in verse.find_all('a', {'class':'strongs'}):\n",
    "                word_dict = {}\n",
    "                #added stemmer here, use a.text instead of stemmer.stem(a.text) for full word\n",
    "                word_dict.update({prefix + str(int(a.get('data-strongs-number')))+ \"_stemmed\": stemmer.stem(a.text)})\n",
    "                word_dict.update({prefix + str(int(a.get('data-strongs-number')))+ \"_lower\": a.text.lower()})\n",
    "                word_dict.update({prefix + str(int(a.get('data-strongs-number'))): a.text})\n",
    "                verse_dict.append({prefix + str(int(a.get('data-strongs-number'))):word_dict})\n",
    "                verse_index +=1\n",
    "            chapter.update({verse_num:verse_dict})\n",
    "            verse_num +=1\n",
    "        book.update({chapter_num: chapter})\n",
    "    bible_dict.update({b:book})"
   ]
  },
  {
   "cell_type": "code",
   "execution_count": 59,
   "metadata": {},
   "outputs": [
    {
     "data": {
      "text/plain": [
       "'behold'"
      ]
     },
     "execution_count": 59,
     "metadata": {},
     "output_type": "execute_result"
    }
   ],
   "source": [
    "test = 'behold\"'\n",
    "import re\n",
    "re.sub(r'\\W+', '', test)"
   ]
  },
  {
   "cell_type": "markdown",
   "metadata": {},
   "source": [
    "#### Insert verses into sqlite db"
   ]
  },
  {
   "cell_type": "code",
   "execution_count": 2,
   "metadata": {},
   "outputs": [],
   "source": [
    "conn = create_connection(\"nasb_stem.db\")"
   ]
  },
  {
   "cell_type": "code",
   "execution_count": null,
   "metadata": {},
   "outputs": [],
   "source": [
    "sql = 'DROP TABLE strong_verses;'\n",
    "c = conn.cursor()\n",
    "c.execute(sql)\n",
    "conn.commit()"
   ]
  },
  {
   "cell_type": "code",
   "execution_count": 61,
   "metadata": {},
   "outputs": [],
   "source": [
    "create_table_sql = \"\"\" CREATE TABLE IF NOT EXISTS strong_verses_stemmed (\n",
    "                                        ref text NOT NULL,\n",
    "                                        book text NOT NULL,\n",
    "                                        strongs_number text NOT NULL,\n",
    "                                        word text NOT NULL,\n",
    "                                        word_stemmed text NOT NULL,\n",
    "                                        word_lower text NOT NULL,\n",
    "                                        chapter integer NOT NULL,\n",
    "                                        verse integer NOT NULL,\n",
    "                                        sequence integer NOT NULL\n",
    "                                    ); \"\"\"\n",
    "c = conn.cursor()\n",
    "c.execute(create_table_sql)\n",
    "conn.commit()"
   ]
  },
  {
   "cell_type": "code",
   "execution_count": 63,
   "metadata": {},
   "outputs": [
    {
     "name": "stdout",
     "output_type": "stream",
     "text": [
      "revelation 22:21                       \r"
     ]
    }
   ],
   "source": [
    "c = conn.cursor()\n",
    "for b in bible.keys():\n",
    "    for chapter in range(1, len(bible_dict[b])+1):\n",
    "        for verse in range(1, len(bible_dict[b][chapter])+1):\n",
    "            i = 1\n",
    "            for word in bible_dict[b][chapter][verse]:\n",
    "                stemmed = ''\n",
    "                lower = ''\n",
    "                normal = ''\n",
    "                for version in word:\n",
    "                    for v in word[version]:\n",
    "                        if v.find('stemmed')>-1:\n",
    "                            stemmed = re.sub(r'\\W+', '', word[version][v])\n",
    "                        elif v.find('lower')>-1:\n",
    "                            lower = re.sub(r'\\W+', '', word[version][v])\n",
    "                        else:\n",
    "                            normal = re.sub(r'\\W+', '', word[version][v])\n",
    "                ref = '{0} {1}:{2}'.format(b, chapter, verse)\n",
    "                sql = '''INSERT INTO strong_verses_stemmed(ref,book,strongs_number,word, word_stemmed, word_lower,chapter,verse,sequence) VALUES(\"{0}\",\"{1}\",\"{2}\",\"{3}\",\"{4}\",\"{5}\",{6},{7},{8}) '''.format(ref, b, list(word.keys())[0],normal, stemmed, lower, chapter, verse, i)\n",
    "                c.execute(sql)\n",
    "                conn.commit()\n",
    "                i+=1\n",
    "                sys.stdout.write(ref + '                   \\r')\n",
    "                sys.stdout.flush()"
   ]
  },
  {
   "cell_type": "markdown",
   "metadata": {},
   "source": [
    "#### If replacing the table, drop the old one and create new"
   ]
  },
  {
   "cell_type": "markdown",
   "metadata": {},
   "source": [
    "List tables in db"
   ]
  },
  {
   "cell_type": "code",
   "execution_count": 118,
   "metadata": {},
   "outputs": [
    {
     "name": "stdout",
     "output_type": "stream",
     "text": [
      "[('table', 'strong_verses_stemmed', 'strong_verses_stemmed', 2, 'CREATE TABLE strong_verses_stemmed (\\n                                        ref text NOT NULL,\\n                                        book text NOT NULL,\\n                                        strongs_number text NOT NULL,\\n                                        word text NOT NULL,\\n                                        word_stemmed text NOT NULL,\\n                                        word_lower text NOT NULL,\\n                                        chapter integer NOT NULL,\\n                                        verse integer NOT NULL,\\n                                        sequence integer NOT NULL\\n                                    )'), ('table', 'full_verse', 'full_verse', 5178, 'CREATE TABLE full_verse (\\n                                        ref text NOT NULL,\\n                                        book text NOT NULL,\\n                                        chapter_num integer NOT NULL,\\n                                        verse_num integer NOT NULL,\\n                                        verse text NOT NULL\\n                                    )')]\n"
     ]
    }
   ],
   "source": [
    "sql = 'select * from sqlite_master where type = \"table\";'\n",
    "c = conn.cursor()\n",
    "c.execute(sql)\n",
    "rows = c.fetchall()\n",
    "print(rows)"
   ]
  },
  {
   "cell_type": "code",
   "execution_count": 3,
   "metadata": {},
   "outputs": [],
   "source": [
    "import pandas as pd"
   ]
  },
  {
   "cell_type": "markdown",
   "metadata": {},
   "source": [
    "Query db"
   ]
  },
  {
   "cell_type": "code",
   "execution_count": null,
   "metadata": {},
   "outputs": [],
   "source": [
    "sql = \"\"\"\n",
    "SELECT DISTINCT(strongs_number) from strong_verses_stemmed where word_lower IN ('remnant', 'return')\"\"\"\n",
    "c = conn.cursor()\n",
    "c.execute(sql)\n",
    "rows = c.fetchall()\n",
    "pd.DataFrame(rows)"
   ]
  },
  {
   "cell_type": "code",
   "execution_count": 21,
   "metadata": {},
   "outputs": [],
   "source": [
    "def pull_data(words):\n",
    "    words = [get_stemmed(w.lower()) for w in words]\n",
    "    words = [w for w in words if w != 'NO STEM']\n",
    "    print(words)\n",
    "    if len(words) >1:\n",
    "        word_query = ''\n",
    "        for w in words:\n",
    "            word_query += '\"' + w + '\",'\n",
    "        word_query = word_query[:len(word_query)-1]\n",
    "        sql = \"\"\"SELECT ref, word_lower, strongs_number from strong_verses_stemmed where word_lower IN ({})\"\"\".format(word_query)\n",
    "        c = conn.cursor()\n",
    "        c.execute(sql)\n",
    "        rows = c.fetchall()\n",
    "        df = pd.DataFrame(rows)\n",
    "        df.columns = ['ref', 'engl', 'strongs']\n",
    "        print(len(df))\n",
    "        df = df.groupby('ref').aggregate({'engl':','.join, 'strongs':','.join})\n",
    "        df = df[df.engl.apply(lambda x: check_dups(x, len(words)))]\n",
    "        return df\n",
    "    else:\n",
    "        sql = \"\"\"SELECT ref, word_lower, strongs_number from strong_verses_stemmed where word_lower IN ('{}')\"\"\".format('test')\n",
    "        c = conn.cursor()\n",
    "        c.execute(sql)\n",
    "        rows = c.fetchall()\n",
    "        df = pd.DataFrame(rows)\n",
    "        df.columns = ['ref', 'engl', 'strongs']\n",
    "        return df.set_index('ref')\n",
    "def get_stemmed(word):\n",
    "    sql = \"\"\"SELECT word_stemmed from strong_verses_stemmed where word_lower ='{}'\"\"\".format(word)\n",
    "    c = conn.cursor()\n",
    "    c.execute(sql)\n",
    "    rows = c.fetchall()\n",
    "    df = pd.DataFrame(rows)\n",
    "    if len(df) >0:\n",
    "        return df.iloc[0].values[0]\n",
    "    else: \n",
    "        return 'NO STEM'\n",
    "def check_dups(strongs, num_words):\n",
    "    strongs = list(set(str(strongs).split(','))) \n",
    "    if len(strongs) >=num_words:\n",
    "        return True\n",
    "    else: \n",
    "        return False"
   ]
  },
  {
   "cell_type": "code",
   "execution_count": 19,
   "metadata": {},
   "outputs": [
    {
     "name": "stdout",
     "output_type": "stream",
     "text": [
      "['god', 'said', 'follow']\n"
     ]
    },
    {
     "data": {
      "text/plain": [
       "'[{\"ref\":\"1-kings 18:21\",\"verse\":\"Elijah came near to all the people and said, `How long * will you hesitate between two opinions? If the LORD is God, follow * Him; but if Baal, follow * him.` But the people did not answer him a word.\"},{\"ref\":\"john 21:19\",\"verse\":\"Now this He said, signifying by what kind of death he would glorify God. And when He had spoken this, He said to him, `Follow Me!`\"}]'"
      ]
     },
     "execution_count": 19,
     "metadata": {},
     "output_type": "execute_result"
    }
   ],
   "source": [
    "word_query = ''\n",
    "for w in pull_data(['God', 'said', 'follow']).index.values:\n",
    "    word_query += '\"' + w + '\",'\n",
    "word_query = word_query[:len(word_query)-1]\n",
    "sql = \"\"\"SELECT * from full_verse where ref IN({})\"\"\".format(word_query)\n",
    "c = conn.cursor()\n",
    "c.execute(sql)\n",
    "rows = c.fetchall()\n",
    "df = pd.DataFrame(rows)[[0,4]]\n",
    "df.columns = ['ref', 'verse']\n",
    "df.to_json(orient='records')"
   ]
  },
  {
   "cell_type": "code",
   "execution_count": 22,
   "metadata": {},
   "outputs": [
    {
     "name": "stdout",
     "output_type": "stream",
     "text": [
      "['god', 'said', 'follow']\n",
      "8491\n"
     ]
    },
    {
     "data": {
      "text/html": [
       "<div>\n",
       "<style scoped>\n",
       "    .dataframe tbody tr th:only-of-type {\n",
       "        vertical-align: middle;\n",
       "    }\n",
       "\n",
       "    .dataframe tbody tr th {\n",
       "        vertical-align: top;\n",
       "    }\n",
       "\n",
       "    .dataframe thead th {\n",
       "        text-align: right;\n",
       "    }\n",
       "</style>\n",
       "<table border=\"1\" class=\"dataframe\">\n",
       "  <thead>\n",
       "    <tr style=\"text-align: right;\">\n",
       "      <th></th>\n",
       "      <th>engl</th>\n",
       "      <th>strongs</th>\n",
       "    </tr>\n",
       "    <tr>\n",
       "      <th>ref</th>\n",
       "      <th></th>\n",
       "      <th></th>\n",
       "    </tr>\n",
       "  </thead>\n",
       "  <tbody>\n",
       "    <tr>\n",
       "      <th>1-kings 18:21</th>\n",
       "      <td>said,god,follow,follow</td>\n",
       "      <td>H559,H430,H1980,H1980</td>\n",
       "    </tr>\n",
       "    <tr>\n",
       "      <th>john 21:19</th>\n",
       "      <td>said,god,said,follow</td>\n",
       "      <td>G3004,G2316,G3004,G190</td>\n",
       "    </tr>\n",
       "  </tbody>\n",
       "</table>\n",
       "</div>"
      ],
      "text/plain": [
       "                                 engl                 strongs\n",
       "ref                                                          \n",
       "1-kings 18:21  said,god,follow,follow   H559,H430,H1980,H1980\n",
       "john 21:19       said,god,said,follow  G3004,G2316,G3004,G190"
      ]
     },
     "execution_count": 22,
     "metadata": {},
     "output_type": "execute_result"
    }
   ],
   "source": [
    "pull_data(['God', 'said', 'follow'])"
   ]
  }
 ],
 "metadata": {
  "kernelspec": {
   "display_name": "Python 3",
   "language": "python",
   "name": "python3"
  },
  "language_info": {
   "codemirror_mode": {
    "name": "ipython",
    "version": 3
   },
   "file_extension": ".py",
   "mimetype": "text/x-python",
   "name": "python",
   "nbconvert_exporter": "python",
   "pygments_lexer": "ipython3",
   "version": "3.7.6"
  }
 },
 "nbformat": 4,
 "nbformat_minor": 4
}
