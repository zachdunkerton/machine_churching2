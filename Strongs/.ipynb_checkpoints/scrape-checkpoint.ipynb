{
 "cells": [
  {
   "cell_type": "code",
   "execution_count": 2,
   "metadata": {},
   "outputs": [],
   "source": [
    "from get_page import simple_get\n",
    "from bs4 import BeautifulSoup\n",
    "import re\n",
    "import collections\n",
    "import os\n",
    "speaker='nee'"
   ]
  },
  {
   "cell_type": "code",
   "execution_count": 4,
   "metadata": {},
   "outputs": [],
   "source": [
    "def get_links(html):\n",
    "    links = []\n",
    "    for p in html.select('a'):\n",
    "        if p['href'].find('view=article&aid') > -1 and p.text != 'read more':\n",
    "            links.append('http://www.sermonindex.net/modules/articles/' + p['href'])\n",
    "    return links"
   ]
  },
  {
   "cell_type": "code",
   "execution_count": 5,
   "metadata": {},
   "outputs": [],
   "source": [
    "def get_sermon_from_link(url):\n",
    "    page = simple_get(url)\n",
    "    html = BeautifulSoup(page, 'html.parser')\n",
    "    tables = html.select('table')\n",
    "    sermon_text = tables[10].text;\n",
    "    start_sermon = sermon_text.find('Open as PDF')\n",
    "    body = sermon_text[start_sermon+11:].strip()\n",
    "    \n",
    "    title = sermon_text[:start_sermon].split(':')[2].strip()\n",
    "    title = title.replace(' ', '_')\n",
    "    title = title.replace('\\\"', '')\n",
    "    title = title.replace('?', '')\n",
    "    title = title.replace(',', '')\n",
    "    \n",
    "    sermon = collections.namedtuple('Sermon', ['title', 'body'])\n",
    "    sermon.title = title\n",
    "    \n",
    "    sermon.body = body\n",
    "    return sermon"
   ]
  },
  {
   "cell_type": "code",
   "execution_count": 6,
   "metadata": {},
   "outputs": [
    {
     "ename": "FileExistsError",
     "evalue": "[Errno 17] File exists: 'nee'",
     "output_type": "error",
     "traceback": [
      "\u001b[0;31m---------------------------------------------------------------------------\u001b[0m",
      "\u001b[0;31mFileExistsError\u001b[0m                           Traceback (most recent call last)",
      "\u001b[0;32m<ipython-input-6-ef95b345ee50>\u001b[0m in \u001b[0;36m<module>\u001b[0;34m()\u001b[0m\n\u001b[0;32m----> 1\u001b[0;31m \u001b[0mos\u001b[0m\u001b[0;34m.\u001b[0m\u001b[0mmkdir\u001b[0m\u001b[0;34m(\u001b[0m\u001b[0mspeaker\u001b[0m\u001b[0;34m)\u001b[0m\u001b[0;34m\u001b[0m\u001b[0m\n\u001b[0m",
      "\u001b[0;31mFileExistsError\u001b[0m: [Errno 17] File exists: 'nee'"
     ]
    }
   ],
   "source": [
    "os.mkdir(speaker)"
   ]
  },
  {
   "cell_type": "code",
   "execution_count": 50,
   "metadata": {},
   "outputs": [],
   "source": [
    "def get_sermons(speaker, url):\n",
    "    for i in range(10,30):\n",
    "        sermon_index = simple_get(url+str(i))\n",
    "        html = BeautifulSoup(sermon_index, 'html.parser')\n",
    "        links = get_links(html)\n",
    "        os.chdir('./' + speaker) \n",
    "        for link in links:\n",
    "            sermon = get_sermon_from_link(link)\n",
    "            filename = speaker + '_'  + sermon.title + '.txt'\n",
    "            with open(filename,'w') as f:\n",
    "                f.write(sermon.body)\n",
    "            print('Created ', sermon.title)\n",
    "        print(i)\n",
    "        os.chdir('..')"
   ]
  },
  {
   "cell_type": "code",
   "execution_count": 53,
   "metadata": {},
   "outputs": [
    {
     "name": "stdout",
     "output_type": "stream",
     "text": [
      "Created  Tears_Shall_Cease\n",
      "Created  Tell_me_._._._where_Thou_feedest\n",
      "Created  Tender_Comfort\n",
      "Created  Thank_Him;_Dwell_Acceptably\n",
      "Created  Thankful_For_Liberty\n",
      "Created  That_is_all_they_have_to_enjoy\n",
      "Created  That_through_death_He_might_destroy_him\n",
      "Created  That_unclean_donkey_is_yourself!\n",
      "Created  That_We_Might_Live_Also_With_Him\n",
      "Created  The_Abiding_of_the_Spirit_the_Glory_of_the_Church\n",
      "Created  The_Agreement_of_Salvation_by_Grace_with_Walking_in_Good_Works\n",
      "Created  The_Alarum\n",
      "Created  The_Allegories_of_Sarah_and_Hagar\n",
      "Created  The_Amen\n",
      "Created  The_Approachableness_of_Jesus\n",
      "Created  The_Ark_of_His_Covenant\n",
      "Created  The_Ascension_and_the_Second_Advent_Practically_Considered\n",
      "Created  The_Ascension_of_Christ\n",
      "Created  The_Axe_at_the_RootÂ—A_Testimony_Against_Puseyite_Idolatry\n",
      "Created  The_Baptist_Union_Censure_(February_1888)\n",
      "Created  The_Barley_Field_on_Fire\n",
      "Created  The_barrel_of_meal_wasted_not\n",
      "Created  The_Battle_of_Life\n",
      "Created  The_Beatific_Vision\n",
      "Created  The_Bed_and_Its_Covering\n",
      "Created  The_Believer_A_New_Creature\n",
      "Created  The_Believing_Thief\n",
      "Created  The_Beloved_Pastor's_Plea_for_Unity\n",
      "Created  The_Best_Beloved\n",
      "Created  The_Best_Way_To_Come_To_Christ\n",
      "Created  The_Bible's_First_Promise\n",
      "Created  The_Bible's_Supreme_Place\n",
      "Created  The_Blessing_of_Full_Assurance\n",
      "Created  The_Blind_Beggar\n",
      "Created  The_Bliss_of_the_Glorified\n",
      "Created  The_Breaker!\n",
      "Created  The_Care_of_the_Poor\n",
      "Created  The_Case_Proved_(October_1887)\n",
      "Created  The_Day_of_Atonement\n",
      "Created  The_Devil_has_been_vanquished_by_Christ\n",
      "Created  The_devil's_jackals!\n",
      "Created  The_diamond_rivet!\n",
      "Created  The_diamonds_of_heaven!\n",
      "Created  The_dove_came_in_to_him_in_the_evening\n",
      "Created  The_Down_Grade_(April_1887)\n",
      "Created  The_Dross_Purged\n",
      "Created  The_Enemy_Frustrated\n",
      "Created  The_eyes_of_God_see_it_all\n",
      "Created  The_Father_sent_the_Son_to_be_the_Saviour_of_the_world\n",
      "Created  THE_FEAR_OF_FINAL_FALLING\n",
      "10\n",
      "Created  The_flowers_appear_on_the_earth\n"
     ]
    },
    {
     "name": "stderr",
     "output_type": "stream",
     "text": [
      "Some characters could not be decoded, and were replaced with REPLACEMENT CHARACTER.\n"
     ]
    },
    {
     "name": "stdout",
     "output_type": "stream",
     "text": [
      "Created  The_grand_object_of_the_eye_of_faith!\n",
      "Created  The_Greatest_Joy_Of_Heaven\n",
      "Created  The_Habit_and_the_Spirit_of_Prayer\n",
      "Created  THE_INCREASE_OF_FAITH\n",
      "Created  The_infinite_tenderness_of_Jesus!\n",
      "Created  The_iniquity_of_the_holy_things\n",
      "Created  The_Intercessor-Gift_Of_God's_Grace\n",
      "Created  The_iron_did_swim\n",
      "Created  The_Kind_of_Revival_We_Need\n",
      "Created  The_King's_Highway\n",
      "Created  The_king's_garden\n",
      "Created  The_knife_of_the_heavenly_Surgeon\n",
      "Created  The_Knowledge_Of_God\n",
      "Created  The_Knowledge_We_Seek\n",
      "Created  The_Lard_Our_Companion\n",
      "Created  The_Lord_is_King_for_ever_and_ever\n",
      "Created  The_Lord_is_slow_to_anger_and_great_in_power\n",
      "Created  The_Lord_our_Righteousness\n",
      "Created  The_Lord_taketh_pleasure_in_His_people\n",
      "Created  The_Lord's_Much_More\n",
      "Created  The_love_of_the_Lord\n",
      "Created  The_Mercy_Of_God_To_The_Nations\n",
      "Created  The_Messiah_shall_be_cut_off_but_not_for_himself\n",
      "Created  The_Modern_God_who_is_not_Divine\n",
      "Created  The_Old_Old_Story\n",
      "Created  The_Overcomer\n",
      "Created  The_Overcomer's_Reward\n",
      "Created  The_place_which_is_called_Calvary\n",
      "Created  The_precious_blood_of_Christ\n",
      "Created  The_Proof_That_I_Was_Pardoned\n",
      "Created  The_Righteousness_of_Christ_Imputed_to_Me\n",
      "Created  The_Safest_Place\n",
      "Created  The_Sinner's_Savior\n",
      "Created  The_Soul_of_Religion\n",
      "Created  The_Spirit_At_Work\n",
      "Created  The_Sum_of_the_Gospel\n",
      "Created  The_Sweet_Uses_of_Adversity\n",
      "Created  The_Sword_Is_Yours\n",
      "Created  The_things_which_are_not_seen\n"
     ]
    },
    {
     "name": "stderr",
     "output_type": "stream",
     "text": [
      "Some characters could not be decoded, and were replaced with REPLACEMENT CHARACTER.\n"
     ]
    },
    {
     "name": "stdout",
     "output_type": "stream",
     "text": [
      "Created  The_True_Wealth\n",
      "Created  The_voice_of_one_crying_in_the_wilderness\n",
      "Created  The_Way_To_Be_Saved\n"
     ]
    },
    {
     "name": "stderr",
     "output_type": "stream",
     "text": [
      "Some characters could not be decoded, and were replaced with REPLACEMENT CHARACTER.\n"
     ]
    },
    {
     "name": "stdout",
     "output_type": "stream",
     "text": [
      "Created  The_White_Robes_We_Shall_Wear\n",
      "Created  The_Wisest_And_The_Best_Thing\n",
      "Created  The_wrath_to_come\n",
      "Created  The_Down_Grade_Controversy_from_Mr._Spurgeon's_Standpoint_(From_The_Autobiography_Vol._IV)\n",
      "Created  Then_Ahimaaz_ran_by_the_way_of_the_plain_and_overran_Cushi\n",
      "Created  Then_he_put_forth_his_hand_and_took_her\n",
      "Created  Then_opened_He_their_understanding\n",
      "11\n",
      "Created  Then_was_Jesus_led_up_of_the_Spirit_into_the_wilderness\n",
      "Created  There_is_laid_up_for_me_a_crown_of_righteousness\n",
      "Created  There_Is_Something_Real_In_It\n",
      "Created  There_is_therefore_now_no_condemnation\n",
      "Created  There_remaineth_therefore_a_rest_to_the_people_of_God\n",
      "Created  Therefore_brethren_we_are_debtors\n",
      "Created  These_all_died_in_faith\n",
      "Created  These_have_no_root\n",
      "Created  These_scars!\n",
      "Created  They_did_eat_of_the_fruit_of_the_land_of_Canaan_that_year\n",
      "Created  They_shall_be_abundantly_satisfied_with_the_fatness_of_Thy_house\n",
      "Created  They_shall_sing_in_the_ways_of_the_Lord\n",
      "Created  They_took_Jesus_and_led_Him_away\n",
      "Created  They_were_not_carried_to_heaven_on_beds_of_ease!\n",
      "Created  This_Body_Fashioned_Anew\n",
      "Created  This_do_in_remembrance_of_Me\n",
      "Created  This_Is_What_I_Know\n",
      "Created  This_Must_Be_a_Soldiers'_Battle_(December_1889)\n",
      "Created  This_was_his_final_verdict!\n",
      "Created  Those_ghastly_corpses_might_well_have_affrighted_Rizpah!\n",
      "Created  Thou_art_my_hope_in_the_day_of_evil\n",
      "Created  Thou_hast_left_thy_first_love\n",
      "Created  Thou_hast_made_the_Lord_which_is_my_refuge\n",
      "Created  Thou_shalt_be_called_Sought_out\n",
      "Created  Thou_shalt_call_his_name_Jesus\n",
      "Created  Thou_shalt_love_thy_neighbour\n",
      "Created  Thou_shalt_not_be_afraid_for_the_terror_by_night\n",
      "Created  Thus_saith_the_Lord_God\n",
      "Created  Thy_gentleness_hath_made_me_great\n",
      "Created  Thy_good_Spirit\n",
      "Created  Thy_love_is_better_than_wine\n",
      "Created  Thy_love_to_me_was_wonderful\n",
      "Created  To_Declare_Myself_A_Friend_Of_Christ\n",
      "Created  To_Him_be_glory_both_now_and_forever\n",
      "Created  To_Others_an_Ensample\n",
      "Created  To_whom_belongest_thou\n",
      "Created  TO_YOU\n",
      "Created  Treasures_Hidden_in_the_Scriptures\n",
      "Created  True_Heart-Energy\n",
      "Created  Trust_Means_Joy\n",
      "Created  Truth_Established\n",
      "Created  Turn_away_mine_eyes_from_beholding_vanity\n",
      "Created  Two_precious_jewels_glittering_side_by_side\n",
      "Created  Unbroken_Fellowship_Essential\n",
      "Created  Understandest_thou_what_thou_readest\n",
      "Created  Unstaggering_Trustfulness\n",
      "Created  Unto_me_who_am_less_than_the_least_of_all_saints\n",
      "Created  Victory_in_Reverses\n",
      "Created  Wait_for_the_Finals\n",
      "Created  Walk_in_Light\n",
      "12\n",
      "Created  We_are_come_to_the_blood_of_sprinkling\n",
      "Created  We_Dare_Not_Doubt\n",
      "Created  We_dwell_in_Him\n",
      "Created  We_May_Speak_for_God\n",
      "Created  We_must_be_wedded_to_the_Leah_of_real_holiness\n",
      "Created  We_must_through_much_tribulation_enter_into_the_kingdom_of_God\n",
      "Created  We_need_You_to_bring_us_to_You!\n"
     ]
    },
    {
     "name": "stderr",
     "output_type": "stream",
     "text": [
      "Some characters could not be decoded, and were replaced with REPLACEMENT CHARACTER.\n"
     ]
    },
    {
     "name": "stdout",
     "output_type": "stream",
     "text": [
      "Created  We_Receive_as_We_Give\n",
      "Created  We_Shall_Be_Without_Spot_Or_Wrinkle\n",
      "Created  We_Shall_Rejoice_Together_In_Him\n",
      "Created  We_will_be_glad_and_rejoice_in_Thee\n",
      "Created  We_will_remember_Thy_love_more_than_wine\n",
      "Created  We_would_see_Jesus\n",
      "Created  WHAT_ARE_WE_AT\n",
      "Created  What_Follows_Us\n",
      "Created  What_Is_Your_Answer_To_That_Question\n",
      "Created  What_to_Leave_Children\n",
      "Created  When_the_Children_of_God_Mix_with_the_World\n",
      "Created  When_thou_hearest_the_sound_of_a_going_in_the_tops_of_the_mulberry_trees\n"
     ]
    },
    {
     "name": "stderr",
     "output_type": "stream",
     "text": [
      "Some characters could not be decoded, and were replaced with REPLACEMENT CHARACTER.\n"
     ]
    },
    {
     "name": "stdout",
     "output_type": "stream",
     "text": [
      "Created  Where_wisdom_may_be_found\n",
      "Created  Whereas_the_Lord_was_there\n",
      "Created  Whereby_they_have_made_Thee_glad.\n",
      "Created  Who_is_even_at_the_right_hand_of_God\n",
      "Created  Who_is_fit_to_live_on_earth\n",
      "Created  Whose_Battle\n",
      "Created  Whose_goings_forth_have_been_from_of_old_from_everlasting\n",
      "Created  WHY_ARE_WE_SAVED_BY_FAITH\n",
      "Created  Why_Remain_Captive\n",
      "Created  Why_Remain_Captive\n",
      "Created  WHY_SAINTS_PERSEVERE\n",
      "Created  Why_sit_we_here_until_we_die\n",
      "Created  Wisdom_for_the_Asking\n",
      "Created  With_lovingkindness_have_I_drawn_thee\n",
      "Created  With_The_Weapon_Of_Love\n",
      "Created  Without_Fear_of_Man\n",
      "Created  Without_the_shedding_of_blood_is_no_remission\n",
      "Created  Without_Thought_Of_Fear\n",
      "Created  Worship_is_our_privilege\n",
      "Created  Ye_are_Christ's\n",
      "Created  Ye_must_be_born_again\n",
      "Created  Yea_He_is_altogether_lovely\n",
      "Created  Yield_to_the_Holy_Spirit\n",
      "Created  You_Are_A_New_Creation\n",
      "Created  You_Are_The_Arrows_Of_God\n",
      "Created  You_Deal_with_God\n",
      "Created  You_Need_Only_Be_Willing\n",
      "Created  You_Shall_Dwell_In_The_King's_Palace\n",
      "Created  Your_children\n",
      "Created  Your_heavenly_Father\n",
      "Created  Your_refuge_from_the_avenger_of_blood\n",
      "13\n",
      "Created  Be_of_Good_Cheer\n",
      "Created  IT_IS_GOD_THAT_JUSTIFIETH\n",
      "Created  Loved_unto_the_End\n",
      "Created  Mr._Spurgeon's_Confession_of_Faith_(August_1891_)\n",
      "Created  MY_REDEEMER_LIVETH\n",
      "14\n",
      "15\n",
      "16\n",
      "17\n",
      "18\n",
      "19\n",
      "20\n",
      "21\n",
      "22\n",
      "23\n",
      "24\n",
      "25\n",
      "26\n",
      "27\n",
      "28\n",
      "29\n"
     ]
    }
   ],
   "source": [
    "get_sermons('nee', 'http://www.sermonindex.net/modules/articles/index.php?view=category&cid=1876&page=')"
   ]
  },
  {
   "cell_type": "code",
   "execution_count": 52,
   "metadata": {},
   "outputs": [],
   "source": [
    "os.chdir('..')"
   ]
  },
  {
   "cell_type": "code",
   "execution_count": 3,
   "metadata": {},
   "outputs": [
    {
     "data": {
      "text/plain": [
       "'/Users/zdunkerton/Documents/data/machine_churching'"
      ]
     },
     "execution_count": 3,
     "metadata": {},
     "output_type": "execute_result"
    }
   ],
   "source": [
    "os.getcwd()"
   ]
  },
  {
   "cell_type": "code",
   "execution_count": null,
   "metadata": {},
   "outputs": [],
   "source": []
  }
 ],
 "metadata": {
  "kernelspec": {
   "display_name": "Python 3",
   "language": "python",
   "name": "python3"
  },
  "language_info": {
   "codemirror_mode": {
    "name": "ipython",
    "version": 3
   },
   "file_extension": ".py",
   "mimetype": "text/x-python",
   "name": "python",
   "nbconvert_exporter": "python",
   "pygments_lexer": "ipython3",
   "version": "3.6.0"
  }
 },
 "nbformat": 4,
 "nbformat_minor": 2
}
