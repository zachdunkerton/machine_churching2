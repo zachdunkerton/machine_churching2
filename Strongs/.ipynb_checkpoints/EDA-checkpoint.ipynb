{
 "cells": [
  {
   "cell_type": "markdown",
   "metadata": {},
   "source": [
    "## Data driven cross references\n",
    "- nearest neighbor algorithm\n",
    "- common words: verses that share 3 or more of the same words. - DONE basically\n",
    "- Genesis 1:1 uses land rather than earth. Probably because thats the word for strongs, but not for NASB. Need to fix dat\n",
    "- node edge graph for verses with 2+ shared words\n",
    "- plural/singular, past verse present tense should be the same. Stem? Case sensitivity\n",
    "- Deliverable: how do you put in a set of verses and get everything that ties to that set\n",
    "- top books related to passage\n",
    "- node edge graph for specific verse or passage, weighted and colored by book type"
   ]
  },
  {
   "cell_type": "code",
   "execution_count": 1,
   "metadata": {},
   "outputs": [],
   "source": [
    "import re\n",
    "import os\n",
    "import sys\n",
    "import sqlite3\n",
    "import pandas as pd\n",
    "from sklearn.cluster import KMeans\n",
    "from sklearn.feature_extraction.text import TfidfVectorizer\n",
    "def create_connection(db_file):\n",
    "    \"\"\" create a database connection to the SQLite database\n",
    "        specified by db_file\n",
    "    :param db_file: database file\n",
    "    :return: Connection object or None\n",
    "    \"\"\"\n",
    "    try:\n",
    "        conn = sqlite3.connect(db_file)\n",
    "        return conn\n",
    "    except Error as e:\n",
    "        print(e)\n",
    " \n",
    "    return None\n",
    "conn = create_connection(\"../bible/nasb.db\")"
   ]
  },
  {
   "cell_type": "code",
   "execution_count": 9,
   "metadata": {},
   "outputs": [
    {
     "name": "stdout",
     "output_type": "stream",
     "text": [
      "(0, 'ref', 'text', 1, None, 0)\n",
      "(1, 'book', 'text', 1, None, 0)\n",
      "(2, 'strongs_number', 'text', 1, None, 0)\n",
      "(3, 'chapter', 'integer', 1, None, 0)\n",
      "(4, 'verse', 'integer', 1, None, 0)\n",
      "(5, 'sequence', 'integer', 1, None, 0)\n"
     ]
    }
   ],
   "source": [
    "sql = 'PRAGMA table_info(strong_verses);'\n",
    "c = conn.cursor()\n",
    "c.execute(sql)\n",
    "rows = c.fetchall()\n",
    "for row in rows:\n",
    "    print(row)"
   ]
  },
  {
   "cell_type": "code",
   "execution_count": 10,
   "metadata": {},
   "outputs": [
    {
     "name": "stdout",
     "output_type": "stream",
     "text": [
      "(0, 'number', 'integer', 0, None, 1)\n",
      "(1, 'word', 'text', 1, None, 0)\n"
     ]
    }
   ],
   "source": [
    "sql = 'PRAGMA table_info(strong_ref);'\n",
    "c = conn.cursor()\n",
    "c.execute(sql)\n",
    "rows = c.fetchall()\n",
    "for row in rows:\n",
    "    print(row)"
   ]
  },
  {
   "cell_type": "code",
   "execution_count": 16,
   "metadata": {},
   "outputs": [],
   "source": [
    "sql = '''select * from strong_verses\n",
    "cross join strong_ref on strongs_number = strong_ref.number'''\n",
    "c = conn.cursor()\n",
    "c.execute(sql)\n",
    "rows = c.fetchall()\n",
    "data = pd.DataFrame(rows)"
   ]
  },
  {
   "cell_type": "code",
   "execution_count": 2,
   "metadata": {},
   "outputs": [],
   "source": [
    "def dict_factory(cursor, row):\n",
    "    d = {}\n",
    "    for idx, col in enumerate(cursor.description):\n",
    "        d[col[0]] = row[idx]\n",
    "    return d\n",
    "def query(conn, sql):\n",
    "    conn.row_factory = dict_factory\n",
    "    cur = conn.cursor()\n",
    "    cur.execute(sql)\n",
    "    results = cur.fetchall()\n",
    "    return pd.DataFrame(results)"
   ]
  },
  {
   "cell_type": "code",
   "execution_count": 9,
   "metadata": {},
   "outputs": [],
   "source": [
    "data = query(conn, '''select * from strong_verses\n",
    "cross join strong_ref on strongs_number = strong_ref.number''')"
   ]
  },
  {
   "cell_type": "code",
   "execution_count": 3,
   "metadata": {},
   "outputs": [],
   "source": [
    "r = query(conn, '''select * from refs''')"
   ]
  },
  {
   "cell_type": "code",
   "execution_count": 52,
   "metadata": {},
   "outputs": [],
   "source": [
    "def get_edges(row):\n",
    "    edges = []\n",
    "    for ref in row.refs.split(','):\n",
    "        if ref != '':\n",
    "            edges.append((row.ref,ref))\n",
    "    return edges"
   ]
  },
  {
   "cell_type": "code",
   "execution_count": 53,
   "metadata": {},
   "outputs": [],
   "source": [
    "r['edges'] = r.apply(get_edges, axis=1)"
   ]
  },
  {
   "cell_type": "code",
   "execution_count": 59,
   "metadata": {},
   "outputs": [],
   "source": [
    "edges = []\n",
    "for edge_list in r.edges.values:\n",
    "    edges+= edge_list"
   ]
  },
  {
   "cell_type": "code",
   "execution_count": 62,
   "metadata": {},
   "outputs": [],
   "source": [
    "nodes = r.ref.values"
   ]
  },
  {
   "cell_type": "code",
   "execution_count": 77,
   "metadata": {},
   "outputs": [],
   "source": [
    "import networkx as nx\n",
    "G = nx.Graph()\n",
    "G.add_edges_from(edges)"
   ]
  },
  {
   "cell_type": "code",
   "execution_count": 78,
   "metadata": {},
   "outputs": [],
   "source": [
    "G.add_nodes_from(nodes)"
   ]
  },
  {
   "cell_type": "code",
   "execution_count": 80,
   "metadata": {},
   "outputs": [],
   "source": [
    "pos=nx.spring_layout(G)"
   ]
  },
  {
   "cell_type": "code",
   "execution_count": 85,
   "metadata": {},
   "outputs": [
    {
     "data": {
      "text/plain": [
       "array([-0.1225575 , -0.09145081])"
      ]
     },
     "execution_count": 85,
     "metadata": {},
     "output_type": "execute_result"
    }
   ],
   "source": [
    "pos['1-chronicles 10:1']"
   ]
  },
  {
   "cell_type": "code",
   "execution_count": 87,
   "metadata": {},
   "outputs": [],
   "source": [
    "edge_x = []\n",
    "edge_y = []\n",
    "for edge in G.edges():\n",
    "    x0, y0 = pos[edge[0]][0],  pos[edge[0]][1]\n",
    "    x1, y1 = pos[edge[1]][0],  pos[edge[1]][1]\n",
    "    edge_x.append(x0)\n",
    "    edge_x.append(x1)\n",
    "    edge_x.append(None)\n",
    "    edge_y.append(y0)\n",
    "    edge_y.append(y1)\n",
    "    edge_y.append(None)\n",
    "\n",
    "edge_trace = go.Scatter(\n",
    "    x=edge_x, y=edge_y,\n",
    "    line=dict(width=0.5, color='#888'),\n",
    "    hoverinfo='none',\n",
    "    mode='lines')\n",
    "\n",
    "node_x = []\n",
    "node_y = []\n",
    "for node in pos.keys():\n",
    "    node_x.append(pos[node][0])\n",
    "    node_y.append(pos[node][1])\n",
    "\n",
    "node_trace = go.Scatter(\n",
    "    x=node_x, y=node_y,\n",
    "    mode='markers',\n",
    "    hoverinfo='text',\n",
    "    marker=dict(\n",
    "        showscale=True,\n",
    "        # colorscale options\n",
    "        #'Greys' | 'YlGnBu' | 'Greens' | 'YlOrRd' | 'Bluered' | 'RdBu' |\n",
    "        #'Reds' | 'Blues' | 'Picnic' | 'Rainbow' | 'Portland' | 'Jet' |\n",
    "        #'Hot' | 'Blackbody' | 'Earth' | 'Electric' | 'Viridis' |\n",
    "        colorscale='YlGnBu',\n",
    "        reversescale=True,\n",
    "        color=[],\n",
    "        size=10,\n",
    "        colorbar=dict(\n",
    "            thickness=15,\n",
    "            title='Node Connections',\n",
    "            xanchor='left',\n",
    "            titleside='right'\n",
    "        ),\n",
    "        line_width=2))"
   ]
  },
  {
   "cell_type": "code",
   "execution_count": 5,
   "metadata": {},
   "outputs": [],
   "source": [
    "import plotly.graph_objects as go\n",
    "\n",
    "import networkx as nx"
   ]
  },
  {
   "cell_type": "code",
   "execution_count": 6,
   "metadata": {},
   "outputs": [],
   "source": [
    "G = nx.random_geometric_graph(200, 0.125)"
   ]
  },
  {
   "cell_type": "code",
   "execution_count": 5,
   "metadata": {},
   "outputs": [],
   "source": [
    "data = query(conn, '''select * from strong_verses''')"
   ]
  },
  {
   "cell_type": "code",
   "execution_count": 8,
   "metadata": {},
   "outputs": [],
   "source": [
    "def spacing(x):\n",
    "    verse = ''\n",
    "    for word in x.values:\n",
    "        verse += word + ' '\n",
    "    return verse"
   ]
  },
  {
   "cell_type": "code",
   "execution_count": 9,
   "metadata": {},
   "outputs": [],
   "source": [
    "verses = data.groupby(['ref']).aggregate({'word':spacing})\n",
    "verses.word = verses.word.apply(lambda x: x.strip())"
   ]
  },
  {
   "cell_type": "code",
   "execution_count": 15,
   "metadata": {},
   "outputs": [],
   "source": [
    "ot = {\"genesis\":50,\"exodus\":40,\"leviticus\":27, \"numbers\":36,\"deuteronomy\":34, \"joshua\":24, \"judges\":21, \"ruth\":4, \"1-samuel\":31, \"2-samuel\":24,\n",
    "        \"1-kings\":22, \"2-kings\":25, \"1-chronicles\":29, \"2-chronicles\":36, \"ezra\":10, \"nehemiah\":13, \"esther\":10, \"job\":42, \"psalms\":150,\n",
    "        \"proverbs\":31, \"ecclesiastes\":12, \"song-of-solomon\":8, \"isaiah\":66, \"jeremiah\":52, \"lamentations\":5, \"ezekiel\":48, \"daniel\":12,\n",
    "        \"hosea\":14, \"joel\":3, \"amos\":9, \"obadiah\":1, \"jonah\":4, \"micah\":7, \"nahum\":3, \"habakkuk\":3, \"zephaniah\":3, \"haggai\":2,\"zechariah\":14,\n",
    "        \"malachi\":4}\n",
    "nt = {\"matthew\":28, \"mark\":16, \"luke\":24, \"john\":21, \"acts\":28, \"romans\":16, \"1-corinthians\":16, \"2-corithians\":13, \"galatians\":6,\n",
    "        \"ephesians\":6, \"philippians\":4, \"colossians\":4, \"1-thessalonians\":5, \"2-thessalonians\":3, \"1-timothy\":6, \"2-timothy\":4,\n",
    "        \"titus\":3, \"philemon\":1, \"hebrews\":13, \"james\":5, \"1-peter\":5, \"2-peter\":3, \"1-john\":5, \"2-john\":1, \"3-john\":1, \"jude\":1, \"revelation\":22}"
   ]
  },
  {
   "cell_type": "code",
   "execution_count": 35,
   "metadata": {},
   "outputs": [],
   "source": [
    "books = []\n",
    "for b in ot:\n",
    "    books.append(list(data[data.book == b].strongs_number.values))"
   ]
  },
  {
   "cell_type": "code",
   "execution_count": 37,
   "metadata": {},
   "outputs": [
    {
     "name": "stderr",
     "output_type": "stream",
     "text": [
      "c:\\users\\zach dunkerton\\appdata\\local\\programs\\python\\python36\\lib\\site-packages\\sklearn\\feature_extraction\\text.py:1089: FutureWarning: Conversion of the second argument of issubdtype from `float` to `np.floating` is deprecated. In future, it will be treated as `np.float64 == np.dtype(float).type`.\n",
      "  if hasattr(X, 'dtype') and np.issubdtype(X.dtype, np.float):\n"
     ]
    }
   ],
   "source": [
    "vect = TfidfVectorizer(max_df = .2,ngram_range = {1,3})\n",
    "corpus = vect.fit_transform(books[0])"
   ]
  },
  {
   "cell_type": "code",
   "execution_count": 38,
   "metadata": {},
   "outputs": [
    {
     "data": {
      "text/plain": [
       "<17411x1758 sparse matrix of type '<class 'numpy.float64'>'\n",
       "\twith 17411 stored elements in Compressed Sparse Row format>"
      ]
     },
     "execution_count": 38,
     "metadata": {},
     "output_type": "execute_result"
    }
   ],
   "source": [
    "corpus"
   ]
  },
  {
   "cell_type": "code",
   "execution_count": 26,
   "metadata": {
    "collapsed": true
   },
   "outputs": [
    {
     "ename": "ValueError",
     "evalue": "setting an array element with a sequence.",
     "output_type": "error",
     "traceback": [
      "\u001b[1;31m---------------------------------------------------------------------------\u001b[0m",
      "\u001b[1;31mValueError\u001b[0m                                Traceback (most recent call last)",
      "\u001b[1;32m<ipython-input-26-44a04fea1d0d>\u001b[0m in \u001b[0;36m<module>\u001b[1;34m()\u001b[0m\n\u001b[1;32m----> 1\u001b[1;33m \u001b[0mkmeans\u001b[0m \u001b[1;33m=\u001b[0m \u001b[0mKMeans\u001b[0m\u001b[1;33m(\u001b[0m\u001b[0mn_clusters\u001b[0m\u001b[1;33m=\u001b[0m\u001b[1;36m4\u001b[0m\u001b[1;33m,\u001b[0m \u001b[0mrandom_state\u001b[0m\u001b[1;33m=\u001b[0m\u001b[1;36m0\u001b[0m\u001b[1;33m,\u001b[0m \u001b[0mmax_iter\u001b[0m\u001b[1;33m=\u001b[0m\u001b[1;36m100\u001b[0m\u001b[1;33m)\u001b[0m\u001b[1;33m.\u001b[0m\u001b[0mfit\u001b[0m\u001b[1;33m(\u001b[0m\u001b[0mbooks\u001b[0m\u001b[1;33m)\u001b[0m\u001b[1;33m\u001b[0m\u001b[0m\n\u001b[0m\u001b[0;32m      2\u001b[0m \u001b[0mtransformed\u001b[0m \u001b[1;33m=\u001b[0m \u001b[0mkmeans\u001b[0m\u001b[1;33m.\u001b[0m\u001b[0mtransform\u001b[0m\u001b[1;33m(\u001b[0m\u001b[0mcorpus\u001b[0m\u001b[1;33m)\u001b[0m\u001b[1;33m\u001b[0m\u001b[0m\n",
      "\u001b[1;32mc:\\users\\zach dunkerton\\appdata\\local\\programs\\python\\python36\\lib\\site-packages\\sklearn\\cluster\\k_means_.py\u001b[0m in \u001b[0;36mfit\u001b[1;34m(self, X, y)\u001b[0m\n\u001b[0;32m    882\u001b[0m         \"\"\"\n\u001b[0;32m    883\u001b[0m         \u001b[0mrandom_state\u001b[0m \u001b[1;33m=\u001b[0m \u001b[0mcheck_random_state\u001b[0m\u001b[1;33m(\u001b[0m\u001b[0mself\u001b[0m\u001b[1;33m.\u001b[0m\u001b[0mrandom_state\u001b[0m\u001b[1;33m)\u001b[0m\u001b[1;33m\u001b[0m\u001b[0m\n\u001b[1;32m--> 884\u001b[1;33m         \u001b[0mX\u001b[0m \u001b[1;33m=\u001b[0m \u001b[0mself\u001b[0m\u001b[1;33m.\u001b[0m\u001b[0m_check_fit_data\u001b[0m\u001b[1;33m(\u001b[0m\u001b[0mX\u001b[0m\u001b[1;33m)\u001b[0m\u001b[1;33m\u001b[0m\u001b[0m\n\u001b[0m\u001b[0;32m    885\u001b[0m \u001b[1;33m\u001b[0m\u001b[0m\n\u001b[0;32m    886\u001b[0m         \u001b[0mself\u001b[0m\u001b[1;33m.\u001b[0m\u001b[0mcluster_centers_\u001b[0m\u001b[1;33m,\u001b[0m \u001b[0mself\u001b[0m\u001b[1;33m.\u001b[0m\u001b[0mlabels_\u001b[0m\u001b[1;33m,\u001b[0m \u001b[0mself\u001b[0m\u001b[1;33m.\u001b[0m\u001b[0minertia_\u001b[0m\u001b[1;33m,\u001b[0m \u001b[0mself\u001b[0m\u001b[1;33m.\u001b[0m\u001b[0mn_iter_\u001b[0m \u001b[1;33m=\u001b[0m\u001b[0;31m \u001b[0m\u001b[0;31m\\\u001b[0m\u001b[1;33m\u001b[0m\u001b[0m\n",
      "\u001b[1;32mc:\\users\\zach dunkerton\\appdata\\local\\programs\\python\\python36\\lib\\site-packages\\sklearn\\cluster\\k_means_.py\u001b[0m in \u001b[0;36m_check_fit_data\u001b[1;34m(self, X)\u001b[0m\n\u001b[0;32m    856\u001b[0m     \u001b[1;32mdef\u001b[0m \u001b[0m_check_fit_data\u001b[0m\u001b[1;33m(\u001b[0m\u001b[0mself\u001b[0m\u001b[1;33m,\u001b[0m \u001b[0mX\u001b[0m\u001b[1;33m)\u001b[0m\u001b[1;33m:\u001b[0m\u001b[1;33m\u001b[0m\u001b[0m\n\u001b[0;32m    857\u001b[0m         \u001b[1;34m\"\"\"Verify that the number of samples given is larger than k\"\"\"\u001b[0m\u001b[1;33m\u001b[0m\u001b[0m\n\u001b[1;32m--> 858\u001b[1;33m         \u001b[0mX\u001b[0m \u001b[1;33m=\u001b[0m \u001b[0mcheck_array\u001b[0m\u001b[1;33m(\u001b[0m\u001b[0mX\u001b[0m\u001b[1;33m,\u001b[0m \u001b[0maccept_sparse\u001b[0m\u001b[1;33m=\u001b[0m\u001b[1;34m'csr'\u001b[0m\u001b[1;33m,\u001b[0m \u001b[0mdtype\u001b[0m\u001b[1;33m=\u001b[0m\u001b[1;33m[\u001b[0m\u001b[0mnp\u001b[0m\u001b[1;33m.\u001b[0m\u001b[0mfloat64\u001b[0m\u001b[1;33m,\u001b[0m \u001b[0mnp\u001b[0m\u001b[1;33m.\u001b[0m\u001b[0mfloat32\u001b[0m\u001b[1;33m]\u001b[0m\u001b[1;33m)\u001b[0m\u001b[1;33m\u001b[0m\u001b[0m\n\u001b[0m\u001b[0;32m    859\u001b[0m         \u001b[1;32mif\u001b[0m \u001b[0mX\u001b[0m\u001b[1;33m.\u001b[0m\u001b[0mshape\u001b[0m\u001b[1;33m[\u001b[0m\u001b[1;36m0\u001b[0m\u001b[1;33m]\u001b[0m \u001b[1;33m<\u001b[0m \u001b[0mself\u001b[0m\u001b[1;33m.\u001b[0m\u001b[0mn_clusters\u001b[0m\u001b[1;33m:\u001b[0m\u001b[1;33m\u001b[0m\u001b[0m\n\u001b[0;32m    860\u001b[0m             raise ValueError(\"n_samples=%d should be >= n_clusters=%d\" % (\n",
      "\u001b[1;32mc:\\users\\zach dunkerton\\appdata\\local\\programs\\python\\python36\\lib\\site-packages\\sklearn\\utils\\validation.py\u001b[0m in \u001b[0;36mcheck_array\u001b[1;34m(array, accept_sparse, dtype, order, copy, force_all_finite, ensure_2d, allow_nd, ensure_min_samples, ensure_min_features, warn_on_dtype, estimator)\u001b[0m\n\u001b[0;32m    400\u001b[0m                                       force_all_finite)\n\u001b[0;32m    401\u001b[0m     \u001b[1;32melse\u001b[0m\u001b[1;33m:\u001b[0m\u001b[1;33m\u001b[0m\u001b[0m\n\u001b[1;32m--> 402\u001b[1;33m         \u001b[0marray\u001b[0m \u001b[1;33m=\u001b[0m \u001b[0mnp\u001b[0m\u001b[1;33m.\u001b[0m\u001b[0marray\u001b[0m\u001b[1;33m(\u001b[0m\u001b[0marray\u001b[0m\u001b[1;33m,\u001b[0m \u001b[0mdtype\u001b[0m\u001b[1;33m=\u001b[0m\u001b[0mdtype\u001b[0m\u001b[1;33m,\u001b[0m \u001b[0morder\u001b[0m\u001b[1;33m=\u001b[0m\u001b[0morder\u001b[0m\u001b[1;33m,\u001b[0m \u001b[0mcopy\u001b[0m\u001b[1;33m=\u001b[0m\u001b[0mcopy\u001b[0m\u001b[1;33m)\u001b[0m\u001b[1;33m\u001b[0m\u001b[0m\n\u001b[0m\u001b[0;32m    403\u001b[0m \u001b[1;33m\u001b[0m\u001b[0m\n\u001b[0;32m    404\u001b[0m         \u001b[1;32mif\u001b[0m \u001b[0mensure_2d\u001b[0m\u001b[1;33m:\u001b[0m\u001b[1;33m\u001b[0m\u001b[0m\n",
      "\u001b[1;31mValueError\u001b[0m: setting an array element with a sequence."
     ]
    }
   ],
   "source": [
    "kmeans = KMeans(n_clusters=4, random_state=0, max_iter=100).fit(books)\n",
    "transformed = kmeans.transform(corpus)"
   ]
  },
  {
   "cell_type": "code",
   "execution_count": 26,
   "metadata": {},
   "outputs": [],
   "source": [
    "from jellyfish import jaro_distance\n",
    "import time"
   ]
  },
  {
   "cell_type": "code",
   "execution_count": 48,
   "metadata": {},
   "outputs": [
    {
     "name": "stdout",
     "output_type": "stream",
     "text": [
      "0.11392998695373535\n"
     ]
    }
   ],
   "source": [
    "t0 = time.time()\n",
    "x = get_top_ref('beginning words words God words God')\n",
    "t1 = time.time()\n",
    "print((t1-t0))"
   ]
  },
  {
   "cell_type": "code",
   "execution_count": 59,
   "metadata": {},
   "outputs": [],
   "source": [
    "def get_top_ref(text):\n",
    "    distances = verses.word.apply(lambda x: len(list(set(text.split(' ')).intersection(x.split(' ')))))\n",
    "    refs = []\n",
    "    for ref in distances.sort_values(ascending = False)[1:10].index:\n",
    "        refs.append(ref)\n",
    "    return refs\n",
    "def array_to_string(refs):\n",
    "    ref_string = ''\n",
    "    for ref in refs:\n",
    "        ref_string +=  ref+ ','\n",
    "    return ref_string"
   ]
  },
  {
   "cell_type": "code",
   "execution_count": 71,
   "metadata": {},
   "outputs": [],
   "source": [
    "create_table_sql = \"\"\" CREATE TABLE IF NOT EXISTS refs (\n",
    "                                        ref text NOT NULL,\n",
    "                                        verses text NOT NULL,\n",
    "                                        refs text NOT NULL\n",
    "                                    ); \"\"\"\n",
    "c = conn.cursor()\n",
    "c.execute(create_table_sql)\n",
    "conn.commit()"
   ]
  },
  {
   "cell_type": "code",
   "execution_count": 74,
   "metadata": {},
   "outputs": [
    {
     "name": "stdout",
     "output_type": "stream",
     "text": [
      "zephaniah 3:9                          \r"
     ]
    }
   ],
   "source": [
    "for verse in verses.index:\n",
    "    sql = ''' INSERT INTO refs(ref,verses,refs)\n",
    "    VALUES(\"{0}\",\"{1}\",\"{2}\") '''.format(verse, verses.loc[verse].word, verses.loc[verse].top_ref)\n",
    "    c.execute(sql)\n",
    "    conn.commit()\n",
    "    sys.stdout.write(verse + '                   \\r')\n",
    "    sys.stdout.flush()"
   ]
  },
  {
   "cell_type": "code",
   "execution_count": 52,
   "metadata": {},
   "outputs": [],
   "source": [
    "verses['top_ref'] = verses.word.apply(get_top_ref)"
   ]
  },
  {
   "cell_type": "code",
   "execution_count": 61,
   "metadata": {},
   "outputs": [],
   "source": [
    "verses.top_ref = verses.top_ref.apply(array_to_string)"
   ]
  },
  {
   "cell_type": "code",
   "execution_count": 45,
   "metadata": {
    "scrolled": true
   },
   "outputs": [
    {
     "data": {
      "text/plain": [
       "ref\n",
       "genesis 1:1          5\n",
       "deuteronomy 4:32     4\n",
       "isaiah 45:18         4\n",
       "genesis 2:4          4\n",
       "isaiah 42:5          4\n",
       "genesis 1:17         3\n",
       "psalms 108:5         3\n",
       "psalms 68:8          3\n",
       "psalms 57:11         3\n",
       "psalms 57:5          3\n",
       "colossians 1:16      3\n",
       "mark 13:19           3\n",
       "2-peter 3:5          3\n",
       "habakkuk 3:3         3\n",
       "isaiah 45:8          3\n",
       "genesis 1:20         3\n",
       "deuteronomy 10:14    3\n",
       "isaiah 45:12         3\n",
       "isaiah 1:2           2\n",
       "deuteronomy 31:28    2\n",
       "1-kings 10:24        2\n",
       "deuteronomy 30:4     2\n",
       "isaiah 40:12         2\n",
       "deuteronomy 7:6      2\n",
       "amos 4:13            2\n",
       "2-kings 19:15        2\n",
       "psalms 102:25        2\n",
       "isaiah 40:22         2\n",
       "genesis 6:4          2\n",
       "isaiah 40:21         2\n",
       "                    ..\n",
       "judges 3:29          0\n",
       "judges 2:6           0\n",
       "judges 2:4           0\n",
       "judges 21:22         0\n",
       "judges 2:11          0\n",
       "judges 21:23         0\n",
       "judges 21:24         0\n",
       "judges 21:25         0\n",
       "judges 21:4          0\n",
       "judges 21:5          0\n",
       "judges 21:6          0\n",
       "judges 21:7          0\n",
       "judges 21:8          0\n",
       "judges 21:9          0\n",
       "judges 2:1           0\n",
       "judges 2:10          0\n",
       "judges 2:13          0\n",
       "judges 2:3           0\n",
       "judges 2:14          0\n",
       "judges 2:15          0\n",
       "judges 2:16          0\n",
       "judges 2:17          0\n",
       "judges 2:18          0\n",
       "judges 2:19          0\n",
       "judges 2:2           0\n",
       "judges 2:20          0\n",
       "judges 2:21          0\n",
       "judges 2:22          0\n",
       "judges 2:23          0\n",
       "1-chronicles 10:1    0\n",
       "Name: word, Length: 30846, dtype: int64"
      ]
     },
     "execution_count": 45,
     "metadata": {},
     "output_type": "execute_result"
    }
   ],
   "source": [
    "distances = verses.word.apply(lambda x: len(list(set('beginning God created heavens earth '.split(' ')).intersection(x.split(' ')))))\n",
    "distances.sort_values(ascending = False)"
   ]
  },
  {
   "cell_type": "code",
   "execution_count": 35,
   "metadata": {},
   "outputs": [
    {
     "data": {
      "text/plain": [
       "0"
      ]
     },
     "execution_count": 35,
     "metadata": {},
     "output_type": "execute_result"
    }
   ],
   "source": [
    "len(list(set('beginning God created heavens earth '.split(' ')).intersection(' Hello wrodl nmkvfkl nmdf')))"
   ]
  },
  {
   "cell_type": "code",
   "execution_count": 16,
   "metadata": {},
   "outputs": [],
   "source": [
    "verses.word = verses.word.apply(lambda x: x.strip())"
   ]
  },
  {
   "cell_type": "code",
   "execution_count": 20,
   "metadata": {},
   "outputs": [],
   "source": [
    "distances['num_words'] = distances.word.apply(lambda x: len(x))"
   ]
  },
  {
   "cell_type": "code",
   "execution_count": 21,
   "metadata": {},
   "outputs": [
    {
     "name": "stdout",
     "output_type": "stream",
     "text": [
      "genesis 2:4 This account heavens earth created day LORD God made earth heaven \n",
      "\n",
      "isaiah 42:5 Thus says God LORD created heavens stretched spread earth offspring gives breath people spirit walk \n",
      "\n",
      "isaiah 45:18 thus says LORD created heavens God formed earth made established create waste place formed inhabited LORD there none else \n",
      "\n",
      "deuteronomy 4:32 Indeed ask now former days which before since day God created man earth end heavens other * done this great thing or heard like \n",
      "\n",
      "genesis 1:20 God said waters teem swarms living creatures birds fly above earth open expanse heavens \n",
      "\n",
      "genesis 1:17 God placed expanse heavens give light earth \n",
      "\n",
      "isaiah 45:12 made earth created man stretched heavens hands ordained all host \n",
      "\n",
      "psalms 57:11 exalted above heavens God glory above all earth \n",
      "\n",
      "isaiah 45:8 Drip down heavens above clouds pour down righteousness earth open salvation bear fruit righteousness spring LORD created \n",
      "\n",
      "psalms 57:5 exalted above heavens God glory above all earth \n",
      "\n",
      "psalms 108:5 exalted God above heavens glory above all earth \n",
      "\n",
      "psalms 68:8 earth quaked heavens also dropped presence God Sinai itself presence God God Israel \n",
      "\n",
      "2-peter 3:5 maintain this escapes notice word God heavens existed long ago earth formed water water \n",
      "\n",
      "mark 13:19 those days tribulation such occurred since beginning creation which God created until now never * \n",
      "\n",
      "deuteronomy 10:14 Behold LORD God heaven highest heavens earth all \n",
      "\n",
      "colossians 1:16 all things created heavens earth visible invisible whether thrones or dominions or rulers or authorities all things created through \n",
      "\n",
      "habakkuk 3:3 God comes Teman Holy One Mount Paran Selah splendor covers heavens earth full praise \n",
      "\n",
      "genesis 5:1 This book generations Adam day God created man made likeness God \n",
      "\n",
      "genesis 1:26 God said make man image likeness rule fish sea birds sky cattle all earth every creeping thing creeps earth \n",
      "\n"
     ]
    }
   ],
   "source": [
    "for ref in distances.sort_values('num_words', ascending = False)[1:20].index:\n",
    "    print(ref, verses.loc[ref].word, '\\n')"
   ]
  },
  {
   "cell_type": "code",
   "execution_count": 92,
   "metadata": {},
   "outputs": [
    {
     "data": {
      "text/plain": [
       "word         {God, heaven}\n",
       "num_words                2\n",
       "Name: acts 17:24, dtype: object"
      ]
     },
     "execution_count": 92,
     "metadata": {},
     "output_type": "execute_result"
    }
   ],
   "source": [
    "distances.loc['acts 17:24']"
   ]
  },
  {
   "cell_type": "code",
   "execution_count": 97,
   "metadata": {},
   "outputs": [],
   "source": [
    "nodes = distances.index"
   ]
  },
  {
   "cell_type": "code",
   "execution_count": null,
   "metadata": {},
   "outputs": [],
   "source": []
  }
 ],
 "metadata": {
  "kernelspec": {
   "display_name": "Python 3",
   "language": "python",
   "name": "python3"
  },
  "language_info": {
   "codemirror_mode": {
    "name": "ipython",
    "version": 3
   },
   "file_extension": ".py",
   "mimetype": "text/x-python",
   "name": "python",
   "nbconvert_exporter": "python",
   "pygments_lexer": "ipython3",
   "version": "3.6.0"
  }
 },
 "nbformat": 4,
 "nbformat_minor": 2
}
